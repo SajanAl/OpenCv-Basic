{
 "cells": [
  {
   "cell_type": "code",
   "execution_count": 4,
   "id": "12f5437d",
   "metadata": {},
   "outputs": [],
   "source": [
    "import cv2\n",
    "import numpy as np"
   ]
  },
  {
   "cell_type": "code",
   "execution_count": 5,
   "id": "0874abf6",
   "metadata": {},
   "outputs": [],
   "source": [
    "#display video capture device\n",
    "cap=cv2.VideoCapture(0)\n",
    "while True:\n",
    "    ret,frame=cap.read()\n",
    "    cv2.imshow('capure',frame)\n",
    "    if cv2.waitKey(1)==ord('q'):\n",
    "        break\n",
    "cap.release()\n",
    "cv2.destroyAllWindows()"
   ]
  },
  {
   "cell_type": "code",
   "execution_count": 22,
   "id": "189748d2",
   "metadata": {},
   "outputs": [],
   "source": [
    "#Mirroring video multiple times\n",
    "cap=cv2.VideoCapture(0)\n",
    "while True:\n",
    "    ret,frame=cap.read()\n",
    "    width=int(cap.get(3))\n",
    "    height=int(cap.get(4))\n",
    "    \n",
    "    image=np.zeros(frame.shape,np.uint8)\n",
    "    smaller_frame=cv2.resize(frame,(0,0),fx=0.5,fy=0.5)\n",
    "    \n",
    "    image[:height//2, :width//2]=cv2.rotate(smaller_frame,cv2.cv2.ROTATE_180)  #top-left\n",
    "    image[height//2:, :width//2]=smaller_frame  #bottom-left\n",
    "    image[:height//2, width//2:]=cv2.rotate(smaller_frame,cv2.cv2.ROTATE_180)  #top-right\n",
    "    image[height//2:, width//2:]=smaller_frame  #bottom-right\n",
    "    \n",
    "    cv2.imshow('capure',image)\n",
    "    if cv2.waitKey(1)==ord('q'):\n",
    "        break\n",
    "cap.release()\n",
    "cv2.destroyAllWindows()"
   ]
  },
  {
   "cell_type": "code",
   "execution_count": 9,
   "id": "f6fa6494",
   "metadata": {},
   "outputs": [],
   "source": [
    "#display video capture device\n",
    "cap=cv2.VideoCapture('Unjaro aa He Dewano - Madh Muhbat Jo - nadeem ali dewano songs - sindhi sufi songs 2022 - piyar naz.mp4')\n",
    "while True:\n",
    "    ret,frame=cap.read()\n",
    "    cv2.imshow('capure',frame)\n",
    "    if cv2.waitKey(20)==ord('q'):\n",
    "        break\n",
    "cap.release()\n",
    "cv2.destroyAllWindows()"
   ]
  },
  {
   "cell_type": "code",
   "execution_count": null,
   "id": "3dc0a304",
   "metadata": {},
   "outputs": [],
   "source": []
  }
 ],
 "metadata": {
  "kernelspec": {
   "display_name": "Python 3 (ipykernel)",
   "language": "python",
   "name": "python3"
  },
  "language_info": {
   "codemirror_mode": {
    "name": "ipython",
    "version": 3
   },
   "file_extension": ".py",
   "mimetype": "text/x-python",
   "name": "python",
   "nbconvert_exporter": "python",
   "pygments_lexer": "ipython3",
   "version": "3.9.13"
  }
 },
 "nbformat": 4,
 "nbformat_minor": 5
}
