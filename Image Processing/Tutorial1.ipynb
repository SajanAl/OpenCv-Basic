{
 "cells": [
  {
   "cell_type": "code",
   "execution_count": 1,
   "id": "257519a7",
   "metadata": {},
   "outputs": [],
   "source": [
    "import cv2"
   ]
  },
  {
   "cell_type": "code",
   "execution_count": 23,
   "id": "ff5ab045",
   "metadata": {},
   "outputs": [],
   "source": [
    "img=cv2.imread('cat.jpg',1)\n",
    "cv2.imshow('img',img)\n",
    "cv2.waitKey(0)\n",
    "cv2.destroyAllWindows()"
   ]
  },
  {
   "cell_type": "code",
   "execution_count": 24,
   "id": "6ee471ef",
   "metadata": {},
   "outputs": [],
   "source": [
    "#resize an image\n",
    "img=cv2.imread('cat.jpg',1)\n",
    "cv2.resize(img,(500,400))\n",
    "cv2.imshow('img',img)\n",
    "cv2.waitKey(0)\n",
    "cv2.destroyAllWindows()"
   ]
  },
  {
   "cell_type": "code",
   "execution_count": 25,
   "id": "38cac389",
   "metadata": {},
   "outputs": [],
   "source": [
    "#rotate image\n",
    "img=cv2.imread('cat.jpg',1)\n",
    "cv2.resize(img,(500,400))\n",
    "img=cv2.rotate(img,cv2.ROTATE_90_CLOCKWISE)\n",
    "cv2.imshow('img',img)\n",
    "cv2.waitKey(0)\n",
    "cv2.destroyAllWindows()"
   ]
  },
  {
   "cell_type": "code",
   "execution_count": 26,
   "id": "2e64db85",
   "metadata": {},
   "outputs": [
    {
     "data": {
      "text/plain": [
       "True"
      ]
     },
     "execution_count": 26,
     "metadata": {},
     "output_type": "execute_result"
    }
   ],
   "source": [
    "#save the image\n",
    "cv2.imwrite('catooo.jpg',img)"
   ]
  },
  {
   "cell_type": "code",
   "execution_count": null,
   "id": "cd2d3709",
   "metadata": {},
   "outputs": [],
   "source": []
  }
 ],
 "metadata": {
  "kernelspec": {
   "display_name": "Python 3 (ipykernel)",
   "language": "python",
   "name": "python3"
  },
  "language_info": {
   "codemirror_mode": {
    "name": "ipython",
    "version": 3
   },
   "file_extension": ".py",
   "mimetype": "text/x-python",
   "name": "python",
   "nbconvert_exporter": "python",
   "pygments_lexer": "ipython3",
   "version": "3.9.13"
  }
 },
 "nbformat": 4,
 "nbformat_minor": 5
}
