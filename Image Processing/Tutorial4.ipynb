{
 "cells": [
  {
   "cell_type": "code",
   "execution_count": 36,
   "id": "622b6ed4",
   "metadata": {},
   "outputs": [],
   "source": [
    "#Drawing lines,images,circles,& text in video\n",
    "import cv2"
   ]
  },
  {
   "cell_type": "code",
   "execution_count": 2,
   "id": "01ae6b58",
   "metadata": {},
   "outputs": [],
   "source": [
    "cap=cv2.VideoCapture(0)\n",
    "while True:\n",
    "    ret,frame=cap.read()\n",
    "    video=cv2.resize(frame,(1400,700))\n",
    "    cv2.line(video,(0,0),(1400,700),(0,0,255),10)\n",
    "    cv2.line(video,(1400,0),(0,700),(0,255,0),10)\n",
    "    cv2.circle(video,(700,350),80,(0,255,255),10)\n",
    "    cv2.rectangle(video,(500,100),(800,600),(255,255,0),10)\n",
    "    cv2.imshow('video',video)\n",
    "    if cv2.waitKey(10)==ord('q'):\n",
    "        break\n",
    "cap.release()\n",
    "cv2.destroyAllWindows()"
   ]
  },
  {
   "cell_type": "code",
   "execution_count": 5,
   "id": "8ff0626b",
   "metadata": {},
   "outputs": [],
   "source": [
    "cap=cv2.VideoCapture('Unjaaro aa.mp4')\n",
    "while True:\n",
    "    ret,frame=cap.read()\n",
    "    video=cv2.resize(frame,(1400,700))\n",
    "    cv2.line(video,(0,0),(1400,700),(0,0,255),10)\n",
    "    cv2.line(video,(1400,0),(0,700),(0,255,0),10)\n",
    "    cv2.circle(video,(700,350),80,(0,255,255),-1)\n",
    "    cv2.rectangle(video,(600,100),(800,600),(255,255,0),10)\n",
    "    cv2.imshow('video',video)\n",
    "    if cv2.waitKey(10)==ord('q'):\n",
    "        break\n",
    "cap.release()\n",
    "cv2.destroyAllWindows()"
   ]
  },
  {
   "cell_type": "code",
   "execution_count": 31,
   "id": "8b04d99d",
   "metadata": {},
   "outputs": [],
   "source": [
    "#apply text on image\n",
    "img=cv2.imread('cat.jpg')\n",
    "Img=cv2.resize(img,(500,500))\n",
    "font=cv2.FONT_HERSHEY_COMPLEX\n",
    "cv2.putText(Img,'I am programmer',(0,50-10),font,1,(0,0,255),5,cv2.LINE_AA)\n",
    "cv2.imshow('cat',Img)\n",
    "cv2.waitKey(0)\n",
    "cv2.destroyAllWindows()"
   ]
  },
  {
   "cell_type": "code",
   "execution_count": 44,
   "id": "a2ac55c0",
   "metadata": {},
   "outputs": [],
   "source": [
    "#apply text on video\n",
    "cap=cv2.VideoCapture(0)\n",
    "while True:\n",
    "    ret,frame=cap.read()\n",
    "    cv2.resize(frame,(500,700))\n",
    "    font=cv2.FONT_HERSHEY_COMPLEX\n",
    "    cv2.putText(frame,'I am programmer',(0,450-10),font,1,(0,255,255),5,cv2.LINE_AA)\n",
    "    cv2.imshow('Camera',frame)\n",
    "    if cv2.waitKey(10)==ord('q'):\n",
    "        break\n",
    "cap.release()\n",
    "cv2.destroyAllWindows()"
   ]
  },
  {
   "cell_type": "code",
   "execution_count": null,
   "id": "29c81aaf",
   "metadata": {},
   "outputs": [],
   "source": []
  }
 ],
 "metadata": {
  "kernelspec": {
   "display_name": "Python 3 (ipykernel)",
   "language": "python",
   "name": "python3"
  },
  "language_info": {
   "codemirror_mode": {
    "name": "ipython",
    "version": 3
   },
   "file_extension": ".py",
   "mimetype": "text/x-python",
   "name": "python",
   "nbconvert_exporter": "python",
   "pygments_lexer": "ipython3",
   "version": "3.9.13"
  }
 },
 "nbformat": 4,
 "nbformat_minor": 5
}
