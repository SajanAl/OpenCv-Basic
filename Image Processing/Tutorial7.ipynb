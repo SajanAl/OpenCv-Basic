{
 "cells": [
  {
   "cell_type": "code",
   "execution_count": 10,
   "id": "17ef0cc1",
   "metadata": {},
   "outputs": [],
   "source": [
    "import cv2\n",
    "import numpy as np"
   ]
  },
  {
   "cell_type": "code",
   "execution_count": 5,
   "id": "977d344f",
   "metadata": {},
   "outputs": [],
   "source": [
    "#on ball detection\n",
    "img=cv2.imread('soccer_practice.jpg',0)\n",
    "template=cv2.imread('ball.PNG',0)\n",
    "h,w=template.shape\n",
    "methods=[cv2.TM_CCOEFF,cv2.TM_CCOEFF_NORMED,cv2.TM_CCORR,cv2.TM_CCORR_NORMED,cv2.TM_SQDIFF,cv2.TM_SQDIFF_NORMED]\n",
    "for method in methods:\n",
    "    img2=img.copy()\n",
    "    result=cv2.matchTemplate(img2,template,method)\n",
    "    mix_val,max_val,min_loc,max_loc=cv2.minMaxLoc(result)\n",
    "    if method in [cv2.TM_SQDIFF,cv2.TM_SQDIFF_NORMED]:\n",
    "        location=min_loc\n",
    "    else:\n",
    "        location=max_loc\n",
    "    bottom_right=(location[0] + w,location[1]+ h)\n",
    "    cv2.rectangle(img2,location,bottom_right,255,5)\n",
    "    cv2.imshow('matching',img2)\n",
    "    cv2.waitKey(0)\n",
    "    cv2.destroyAllWindows()\n",
    "    "
   ]
  },
  {
   "cell_type": "code",
   "execution_count": 16,
   "id": "1a2fe4a3",
   "metadata": {},
   "outputs": [],
   "source": [
    "#on shoes detection\n",
    "\n",
    "img = cv2.resize(cv2.imread('soccer_practice.jpg', 0), (0, 0), fx=0.7, fy=0.7)\n",
    "template = cv2.resize(cv2.imread('shoe.PNG', 0), (0, 0), fx=0.7, fy=0.7)\n",
    "h,w=template.shape\n",
    "methods=[cv2.TM_CCOEFF,cv2.TM_CCOEFF_NORMED,cv2.TM_CCORR,cv2.TM_CCORR_NORMED,cv2.TM_SQDIFF,cv2.TM_SQDIFF_NORMED]\n",
    "for method in methods:\n",
    "    img2=img.copy()\n",
    "    result=cv2.matchTemplate(img2,template,method)\n",
    "    mix_val,max_val,min_loc,max_loc=cv2.minMaxLoc(result)\n",
    "    if method in [cv2.TM_SQDIFF,cv2.TM_SQDIFF_NORMED]:\n",
    "        location=min_loc\n",
    "    else:\n",
    "        location=max_loc\n",
    "    bottom_right=(location[0] + w,location[1]+ h)\n",
    "    cv2.rectangle(img2,location,bottom_right,255,5)\n",
    "    cv2.imshow('matching',img2)\n",
    "    cv2.waitKey(0)\n",
    "    cv2.destroyAllWindows()"
   ]
  },
  {
   "cell_type": "code",
   "execution_count": null,
   "id": "74a5cdd3",
   "metadata": {},
   "outputs": [],
   "source": []
  }
 ],
 "metadata": {
  "kernelspec": {
   "display_name": "Python 3 (ipykernel)",
   "language": "python",
   "name": "python3"
  },
  "language_info": {
   "codemirror_mode": {
    "name": "ipython",
    "version": 3
   },
   "file_extension": ".py",
   "mimetype": "text/x-python",
   "name": "python",
   "nbconvert_exporter": "python",
   "pygments_lexer": "ipython3",
   "version": "3.9.13"
  }
 },
 "nbformat": 4,
 "nbformat_minor": 5
}
