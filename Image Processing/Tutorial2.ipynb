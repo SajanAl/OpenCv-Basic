{
 "cells": [
  {
   "cell_type": "code",
   "execution_count": 2,
   "id": "5c4ab319",
   "metadata": {},
   "outputs": [],
   "source": [
    "#image representation\n",
    "import cv2\n",
    "import numpy as np\n",
    "import random"
   ]
  },
  {
   "cell_type": "code",
   "execution_count": 16,
   "id": "44d32baa",
   "metadata": {},
   "outputs": [
    {
     "name": "stdout",
     "output_type": "stream",
     "text": [
      "(383, 510, 3)\n"
     ]
    }
   ],
   "source": [
    "img=cv2.imread('cat.jpg',1)\n",
    "print(img.shape)"
   ]
  },
  {
   "cell_type": "code",
   "execution_count": 31,
   "id": "a0015807",
   "metadata": {},
   "outputs": [
    {
     "name": "stdout",
     "output_type": "stream",
     "text": [
      "[[ 62  59 238]\n",
      " [ 55  50 231]\n",
      " [ 52  44 228]\n",
      " [ 56  42 230]\n",
      " [ 54  37 225]]\n"
     ]
    }
   ],
   "source": [
    "#Accessing pixel values\n",
    "print(img[300][0:5])"
   ]
  },
  {
   "cell_type": "code",
   "execution_count": 38,
   "id": "e00eff1d",
   "metadata": {},
   "outputs": [],
   "source": [
    "#changning pixel color\n",
    "for i in range(100):\n",
    "    for j in range(img.shape[1]):\n",
    "        img[i][j]=[random.randint(0,255),random.randint(0,255),random.randint(0,255)]\n",
    "cv2.imshow('img',img)\n",
    "cv2.waitKey(0)\n",
    "cv2.destroyAllWindows()"
   ]
  },
  {
   "cell_type": "code",
   "execution_count": 153,
   "id": "32d97a47",
   "metadata": {},
   "outputs": [],
   "source": [
    "#copy and past parts of the image\n",
    "img=cv2.imread('cat.jpg',1)\n",
    "tag=img[0:200,150:350] #peace\n",
    "img[0:200,310:510]=tag #position\n",
    "cv2.imshow('img',img)\n",
    "cv2.waitKey(0)\n",
    "cv2.destroyAllWindows()"
   ]
  },
  {
   "cell_type": "code",
   "execution_count": 18,
   "id": "e7d59cf0",
   "metadata": {},
   "outputs": [],
   "source": [
    "#draw line\n",
    "img=cv2.imread('cat.jpg',1)\n",
    "cv2.line(img,(0,0),(510,510),(0,255,255),10)\n",
    "cv2.imshow('image',img)\n",
    "cv2.waitKey(0)\n",
    "cv2.destroyAllWindows()"
   ]
  },
  {
   "cell_type": "code",
   "execution_count": 39,
   "id": "0eb63566",
   "metadata": {},
   "outputs": [],
   "source": [
    "Img=np.zeros((512,512,3),dtype='uint8')\n",
    "cv2.line(Img,(0,0),(512,512),(0,255,255),10)\n",
    "cv2.line(Img,(512,512),(0,0),(255,250,255),10)\n",
    "cv.rectangle(img,(384,0),(510,128),(0,255,0),3)\n",
    "cv2.imshow('image',Img)\n",
    "cv2.waitKey(0)\n",
    "cv2.destroyAllWindows()"
   ]
  },
  {
   "cell_type": "code",
   "execution_count": 56,
   "id": "ea1f4dbf",
   "metadata": {},
   "outputs": [],
   "source": [
    "Img=np.zeros((512,512,3),dtype='uint8')\n",
    "cv2.line(Img,(0,0),(512,50),(0,255,255),10)\n",
    "cv2.line(Img,(0,512),(0,0),(255,255,0),10)\n",
    "cv2.imshow('image',Img)\n",
    "cv2.waitKey(0)\n",
    "cv2.destroyAllWindows()"
   ]
  },
  {
   "cell_type": "code",
   "execution_count": null,
   "id": "a8262d99",
   "metadata": {},
   "outputs": [],
   "source": []
  },
  {
   "cell_type": "code",
   "execution_count": 3,
   "id": "0bdbd626",
   "metadata": {},
   "outputs": [],
   "source": [
    "img=np.zeros((512,512,3),np.uint8)\n",
    "# draw line\n",
    "cv2.line(img,(0,0),(512,512),(255,250,255),10)\n",
    "cv2.line(img,(512,0),(0,512),(255,0,255),10)\n",
    "#draw rectangle\n",
    "cv2.rectangle(img,(384,0),(510,128),(0,255,255),10)\n",
    "cv2.rectangle(img,(0,128),(128,0),(0,0,255),10)\n",
    "cv2.rectangle(img,(384,383),(510,510),(255,0,0),10)\n",
    "cv2.rectangle(img,(0,384),(128,510),(255,255,0),10)\n",
    "#draw circle\n",
    "cv2.circle(img,(256,256),70,(0,255,0),10)\n",
    "cv2.imshow('Image',img)\n",
    "cv2.waitKey(0)\n",
    "cv2.destroyAllWindows()"
   ]
  },
  {
   "cell_type": "code",
   "execution_count": null,
   "id": "73bcc726",
   "metadata": {},
   "outputs": [],
   "source": []
  }
 ],
 "metadata": {
  "kernelspec": {
   "display_name": "Python 3 (ipykernel)",
   "language": "python",
   "name": "python3"
  },
  "language_info": {
   "codemirror_mode": {
    "name": "ipython",
    "version": 3
   },
   "file_extension": ".py",
   "mimetype": "text/x-python",
   "name": "python",
   "nbconvert_exporter": "python",
   "pygments_lexer": "ipython3",
   "version": "3.9.13"
  }
 },
 "nbformat": 4,
 "nbformat_minor": 5
}
