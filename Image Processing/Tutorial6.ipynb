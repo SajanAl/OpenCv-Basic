{
 "cells": [
  {
   "cell_type": "code",
   "execution_count": 22,
   "id": "2b1a1cdf",
   "metadata": {},
   "outputs": [],
   "source": [
    "#Corner Detection \n",
    "import numpy as np\n",
    "import cv2\n",
    "import random"
   ]
  },
  {
   "cell_type": "code",
   "execution_count": 32,
   "id": "4174165a",
   "metadata": {},
   "outputs": [],
   "source": [
    "import cv2\n",
    "import numpy as np\n",
    "\n",
    "img = cv2.imread('chessboard.jpg')\n",
    "img=cv2.resize(img,(0,0),fx=0.75,fy=0.75)\n",
    "gray = cv2.cvtColor(img, cv2.COLOR_BGR2GRAY)\n",
    "corners = cv2.goodFeaturesToTrack(gray, 150, 0.01, 10)\n",
    "corners = np.int0(corners)\n",
    "\n",
    "for corner in corners:\n",
    "    x, y = corner.ravel()\n",
    "    cv2.circle(img, (x, y), 5, (0, 0, 255), -1)\n",
    "#draw line between corner\n",
    "for i in range(len(corners)):\n",
    "    for j in range(i+1,len(corners)):\n",
    "        corner1=tuple(corners[i][0])\n",
    "        corner2=tuple(corners[j][0])\n",
    "        color=tuple(map(lambda x: int(x), np.random.randint(0,255,size=3)))\n",
    "        cv2.line(img,corner1,corner2,color,1)\n",
    "\n",
    "cv2.imshow('Corners', img)\n",
    "cv2.waitKey(0)\n",
    "cv2.destroyAllWindows()\n"
   ]
  },
  {
   "cell_type": "code",
   "execution_count": 13,
   "id": "55d7df13",
   "metadata": {},
   "outputs": [],
   "source": [
    "\n"
   ]
  },
  {
   "cell_type": "code",
   "execution_count": null,
   "id": "4d8972cd",
   "metadata": {},
   "outputs": [],
   "source": []
  }
 ],
 "metadata": {
  "kernelspec": {
   "display_name": "Python 3 (ipykernel)",
   "language": "python",
   "name": "python3"
  },
  "language_info": {
   "codemirror_mode": {
    "name": "ipython",
    "version": 3
   },
   "file_extension": ".py",
   "mimetype": "text/x-python",
   "name": "python",
   "nbconvert_exporter": "python",
   "pygments_lexer": "ipython3",
   "version": "3.9.13"
  }
 },
 "nbformat": 4,
 "nbformat_minor": 5
}
