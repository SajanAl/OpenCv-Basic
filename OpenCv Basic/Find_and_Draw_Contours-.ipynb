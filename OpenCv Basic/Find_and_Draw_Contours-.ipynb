{
 "cells": [
  {
   "cell_type": "code",
   "execution_count": 2,
   "id": "da37b086",
   "metadata": {},
   "outputs": [],
   "source": [
    "import numpy as np\n",
    "import cv2\n",
    "import matplotlib.pyplot as plt"
   ]
  },
  {
   "cell_type": "code",
   "execution_count": 16,
   "id": "ba953bb9",
   "metadata": {},
   "outputs": [
    {
     "name": "stdout",
     "output_type": "stream",
     "text": [
      "Number of countours=9\n"
     ]
    }
   ],
   "source": [
    "# Image\n",
    "img=cv2.imread(\"OpenCV_Logo_with_text.png\")\n",
    "gray=cv2.cvtColor(img,cv2.COLOR_BGR2GRAY)\n",
    "_,threshold=cv2.threshold(gray,127,255,0)\n",
    "#Find the contours\n",
    "contours,ret=cv2.findContours(threshold,cv2.RETR_TREE,cv2.CHAIN_APPROX_NONE)\n",
    "print(\"Number of countours=\"+ str(len(contours)))\n",
    "# print(contours[0])\n",
    "# draw the contours\n",
    "cv2.drawContours(img,contours,6,(0,255,0),3)\n",
    "cv2.imshow(\"Open cv logo\",img)\n",
    "cv2.imshow(\"Gray image\",gray)\n",
    "cv2.waitKey(0)\n",
    "cv2.destroyAllWindows()"
   ]
  },
  {
   "cell_type": "code",
   "execution_count": 5,
   "id": "0df1fd77",
   "metadata": {},
   "outputs": [],
   "source": [
    "#video\n",
    "cap=cv2.VideoCapture(\"MOT Challenge - Visualize.mp4\")\n",
    "while True:\n",
    "    ret,frame=cap.read()\n",
    "    frame=cv2.resize(frame,(0,0),fx=0.7,fy=0.7)\n",
    "    video=cv2.cvtColor(frame,cv2.COLOR_BGR2GRAY)\n",
    "    #find the threshold and contours\n",
    "    _,thresold=cv2.threshold(video,127,255,0)\n",
    "    contours,ret=cv2.findContours(thresold,cv2.RETR_TREE,cv2.CHAIN_APPROX_SIMPLE)\n",
    "#     print(\"Number of contours=\"+ str(len(contours)))\n",
    "    #draw the contours\n",
    "    cv2.drawContours(frame,contours,-1,(0,255,0),3)\n",
    "    cv2.imshow(\"Original\",frame)\n",
    "    cv2.imshow(\"highway\",video)\n",
    "    cv2.imshow(\"Threshold\",thresold)\n",
    "    if cv2.waitKey(10)==ord('q'):\n",
    "        break\n",
    "cap.release()\n",
    "cv2.destroyAllWindows()"
   ]
  },
  {
   "cell_type": "code",
   "execution_count": 29,
   "id": "57bad00b",
   "metadata": {},
   "outputs": [],
   "source": [
    "#camera\n",
    "cap=cv2.VideoCapture(0)\n",
    "while True:\n",
    "    ret,frame=cap.read()\n",
    "    gray=cv2.cvtColor(frame,cv2.COLOR_BGR2GRAY)\n",
    "    _,mask=cv2.threshold(gray,127,255,0)\n",
    "    contours,ret=cv2.findContours(mask,cv2.RETR_TREE,cv2.CHAIN_APPROX_SIMPLE)\n",
    "    cv2.drawContours(frame,contours,-1,(0,255,0),3)\n",
    "    \n",
    "    cv2.imshow(\"Camera\",frame)\n",
    "    cv2.imshow(\"Gray\",gray)\n",
    "    cv2.imshow(\"mask\",mask)\n",
    "    if cv2.waitKey(10)==ord('q'):\n",
    "        break\n",
    "cap.release()\n",
    "cv2.destroyAllWindows()"
   ]
  },
  {
   "cell_type": "code",
   "execution_count": null,
   "id": "aafa3493",
   "metadata": {},
   "outputs": [],
   "source": []
  }
 ],
 "metadata": {
  "kernelspec": {
   "display_name": "Python 3 (ipykernel)",
   "language": "python",
   "name": "python3"
  },
  "language_info": {
   "codemirror_mode": {
    "name": "ipython",
    "version": 3
   },
   "file_extension": ".py",
   "mimetype": "text/x-python",
   "name": "python",
   "nbconvert_exporter": "python",
   "pygments_lexer": "ipython3",
   "version": "3.9.13"
  }
 },
 "nbformat": 4,
 "nbformat_minor": 5
}
